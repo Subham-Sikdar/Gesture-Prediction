{
 "cells": [
  {
   "cell_type": "markdown",
   "id": "charged-shooting",
   "metadata": {},
   "source": [
    "# Importing Modules"
   ]
  },
  {
   "cell_type": "code",
   "execution_count": 1,
   "id": "happy-immune",
   "metadata": {},
   "outputs": [],
   "source": [
    "import pandas as pd\n",
    "import numpy as np\n",
    "\n",
    "from sklearn.model_selection import train_test_split\n",
    "from sklearn.linear_model import LogisticRegression\n",
    "from sklearn.ensemble import RandomForestClassifier"
   ]
  },
  {
   "cell_type": "markdown",
   "id": "explicit-destiny",
   "metadata": {},
   "source": [
    "# Read and understand data"
   ]
  },
  {
   "cell_type": "code",
   "execution_count": 2,
   "id": "returning-criminal",
   "metadata": {},
   "outputs": [
    {
     "data": {
      "text/html": [
       "<div>\n",
       "<style scoped>\n",
       "    .dataframe tbody tr th:only-of-type {\n",
       "        vertical-align: middle;\n",
       "    }\n",
       "\n",
       "    .dataframe tbody tr th {\n",
       "        vertical-align: top;\n",
       "    }\n",
       "\n",
       "    .dataframe thead th {\n",
       "        text-align: right;\n",
       "    }\n",
       "</style>\n",
       "<table border=\"1\" class=\"dataframe\">\n",
       "  <thead>\n",
       "    <tr style=\"text-align: right;\">\n",
       "      <th></th>\n",
       "      <th>time</th>\n",
       "      <th>channel1</th>\n",
       "      <th>channel2</th>\n",
       "      <th>channel3</th>\n",
       "      <th>channel4</th>\n",
       "      <th>channel5</th>\n",
       "      <th>channel6</th>\n",
       "      <th>channel7</th>\n",
       "      <th>channel8</th>\n",
       "      <th>class</th>\n",
       "    </tr>\n",
       "  </thead>\n",
       "  <tbody>\n",
       "    <tr>\n",
       "      <th>0</th>\n",
       "      <td>1</td>\n",
       "      <td>0.00001</td>\n",
       "      <td>-0.00002</td>\n",
       "      <td>-0.00001</td>\n",
       "      <td>-0.00003</td>\n",
       "      <td>0.00000</td>\n",
       "      <td>-0.00001</td>\n",
       "      <td>0.00000</td>\n",
       "      <td>-0.00001</td>\n",
       "      <td>0.0</td>\n",
       "    </tr>\n",
       "    <tr>\n",
       "      <th>1</th>\n",
       "      <td>5</td>\n",
       "      <td>0.00001</td>\n",
       "      <td>-0.00002</td>\n",
       "      <td>-0.00001</td>\n",
       "      <td>-0.00003</td>\n",
       "      <td>0.00000</td>\n",
       "      <td>-0.00001</td>\n",
       "      <td>0.00000</td>\n",
       "      <td>-0.00001</td>\n",
       "      <td>0.0</td>\n",
       "    </tr>\n",
       "    <tr>\n",
       "      <th>2</th>\n",
       "      <td>6</td>\n",
       "      <td>-0.00001</td>\n",
       "      <td>0.00001</td>\n",
       "      <td>0.00002</td>\n",
       "      <td>0.00000</td>\n",
       "      <td>0.00001</td>\n",
       "      <td>-0.00002</td>\n",
       "      <td>-0.00001</td>\n",
       "      <td>0.00001</td>\n",
       "      <td>0.0</td>\n",
       "    </tr>\n",
       "    <tr>\n",
       "      <th>3</th>\n",
       "      <td>7</td>\n",
       "      <td>-0.00001</td>\n",
       "      <td>0.00001</td>\n",
       "      <td>0.00002</td>\n",
       "      <td>0.00000</td>\n",
       "      <td>0.00001</td>\n",
       "      <td>-0.00002</td>\n",
       "      <td>-0.00001</td>\n",
       "      <td>0.00001</td>\n",
       "      <td>0.0</td>\n",
       "    </tr>\n",
       "    <tr>\n",
       "      <th>4</th>\n",
       "      <td>8</td>\n",
       "      <td>-0.00001</td>\n",
       "      <td>0.00001</td>\n",
       "      <td>0.00002</td>\n",
       "      <td>0.00000</td>\n",
       "      <td>0.00001</td>\n",
       "      <td>-0.00002</td>\n",
       "      <td>-0.00001</td>\n",
       "      <td>0.00001</td>\n",
       "      <td>0.0</td>\n",
       "    </tr>\n",
       "  </tbody>\n",
       "</table>\n",
       "</div>"
      ],
      "text/plain": [
       "   time  channel1  channel2  channel3  channel4  channel5  channel6  channel7  \\\n",
       "0     1   0.00001  -0.00002  -0.00001  -0.00003   0.00000  -0.00001   0.00000   \n",
       "1     5   0.00001  -0.00002  -0.00001  -0.00003   0.00000  -0.00001   0.00000   \n",
       "2     6  -0.00001   0.00001   0.00002   0.00000   0.00001  -0.00002  -0.00001   \n",
       "3     7  -0.00001   0.00001   0.00002   0.00000   0.00001  -0.00002  -0.00001   \n",
       "4     8  -0.00001   0.00001   0.00002   0.00000   0.00001  -0.00002  -0.00001   \n",
       "\n",
       "   channel8  class  \n",
       "0  -0.00001    0.0  \n",
       "1  -0.00001    0.0  \n",
       "2   0.00001    0.0  \n",
       "3   0.00001    0.0  \n",
       "4   0.00001    0.0  "
      ]
     },
     "execution_count": 2,
     "metadata": {},
     "output_type": "execute_result"
    }
   ],
   "source": [
    "df = pd.read_csv(\"../data/interim/gesture-prediction.csv\")\n",
    "df.head()"
   ]
  },
  {
   "cell_type": "code",
   "execution_count": 3,
   "id": "important-conference",
   "metadata": {},
   "outputs": [
    {
     "data": {
      "text/plain": [
       "(4237908, 10)"
      ]
     },
     "execution_count": 3,
     "metadata": {},
     "output_type": "execute_result"
    }
   ],
   "source": [
    "df.shape"
   ]
  },
  {
   "cell_type": "code",
   "execution_count": 4,
   "id": "opened-mortgage",
   "metadata": {},
   "outputs": [
    {
     "data": {
      "text/html": [
       "<div>\n",
       "<style scoped>\n",
       "    .dataframe tbody tr th:only-of-type {\n",
       "        vertical-align: middle;\n",
       "    }\n",
       "\n",
       "    .dataframe tbody tr th {\n",
       "        vertical-align: top;\n",
       "    }\n",
       "\n",
       "    .dataframe thead th {\n",
       "        text-align: right;\n",
       "    }\n",
       "</style>\n",
       "<table border=\"1\" class=\"dataframe\">\n",
       "  <thead>\n",
       "    <tr style=\"text-align: right;\">\n",
       "      <th></th>\n",
       "      <th>time</th>\n",
       "      <th>channel1</th>\n",
       "      <th>channel2</th>\n",
       "      <th>channel3</th>\n",
       "      <th>channel4</th>\n",
       "      <th>channel5</th>\n",
       "      <th>channel6</th>\n",
       "      <th>channel7</th>\n",
       "      <th>channel8</th>\n",
       "      <th>class</th>\n",
       "    </tr>\n",
       "  </thead>\n",
       "  <tbody>\n",
       "    <tr>\n",
       "      <th>count</th>\n",
       "      <td>4.237908e+06</td>\n",
       "      <td>4.237908e+06</td>\n",
       "      <td>4.237908e+06</td>\n",
       "      <td>4.237908e+06</td>\n",
       "      <td>4.237908e+06</td>\n",
       "      <td>4.237908e+06</td>\n",
       "      <td>4.237908e+06</td>\n",
       "      <td>4.237908e+06</td>\n",
       "      <td>4.237908e+06</td>\n",
       "      <td>4.237907e+06</td>\n",
       "    </tr>\n",
       "    <tr>\n",
       "      <th>mean</th>\n",
       "      <td>3.113689e+04</td>\n",
       "      <td>-7.911481e-06</td>\n",
       "      <td>-9.416077e-06</td>\n",
       "      <td>-9.548735e-06</td>\n",
       "      <td>-9.637838e-06</td>\n",
       "      <td>-1.599724e-05</td>\n",
       "      <td>-1.085528e-05</td>\n",
       "      <td>-9.364637e-06</td>\n",
       "      <td>-9.696860e-06</td>\n",
       "      <td>1.265671e+00</td>\n",
       "    </tr>\n",
       "    <tr>\n",
       "      <th>std</th>\n",
       "      <td>1.868079e+04</td>\n",
       "      <td>1.631110e-04</td>\n",
       "      <td>1.192228e-04</td>\n",
       "      <td>1.241846e-04</td>\n",
       "      <td>2.257728e-04</td>\n",
       "      <td>2.724188e-04</td>\n",
       "      <td>2.151405e-04</td>\n",
       "      <td>1.527311e-04</td>\n",
       "      <td>1.720933e-04</td>\n",
       "      <td>1.989693e+00</td>\n",
       "    </tr>\n",
       "    <tr>\n",
       "      <th>min</th>\n",
       "      <td>0.000000e+00</td>\n",
       "      <td>-1.280000e-03</td>\n",
       "      <td>-1.280000e-03</td>\n",
       "      <td>-1.280000e-03</td>\n",
       "      <td>-1.280000e-03</td>\n",
       "      <td>-1.280000e-03</td>\n",
       "      <td>-1.280000e-03</td>\n",
       "      <td>-1.280000e-03</td>\n",
       "      <td>-1.280000e-03</td>\n",
       "      <td>0.000000e+00</td>\n",
       "    </tr>\n",
       "    <tr>\n",
       "      <th>25%</th>\n",
       "      <td>1.529000e+04</td>\n",
       "      <td>-3.000000e-05</td>\n",
       "      <td>-4.000000e-05</td>\n",
       "      <td>-4.000000e-05</td>\n",
       "      <td>-6.000000e-05</td>\n",
       "      <td>-8.000000e-05</td>\n",
       "      <td>-6.000000e-05</td>\n",
       "      <td>-4.000000e-05</td>\n",
       "      <td>-3.000000e-05</td>\n",
       "      <td>0.000000e+00</td>\n",
       "    </tr>\n",
       "    <tr>\n",
       "      <th>50%</th>\n",
       "      <td>3.054600e+04</td>\n",
       "      <td>-1.000000e-05</td>\n",
       "      <td>-1.000000e-05</td>\n",
       "      <td>-1.000000e-05</td>\n",
       "      <td>-1.000000e-05</td>\n",
       "      <td>-1.000000e-05</td>\n",
       "      <td>-1.000000e-05</td>\n",
       "      <td>-1.000000e-05</td>\n",
       "      <td>-1.000000e-05</td>\n",
       "      <td>0.000000e+00</td>\n",
       "    </tr>\n",
       "    <tr>\n",
       "      <th>75%</th>\n",
       "      <td>4.580400e+04</td>\n",
       "      <td>2.000000e-05</td>\n",
       "      <td>2.000000e-05</td>\n",
       "      <td>3.000000e-05</td>\n",
       "      <td>4.000000e-05</td>\n",
       "      <td>5.000000e-05</td>\n",
       "      <td>3.000000e-05</td>\n",
       "      <td>2.000000e-05</td>\n",
       "      <td>1.000000e-05</td>\n",
       "      <td>2.000000e+00</td>\n",
       "    </tr>\n",
       "    <tr>\n",
       "      <th>max</th>\n",
       "      <td>9.714400e+04</td>\n",
       "      <td>1.270000e-03</td>\n",
       "      <td>1.270000e-03</td>\n",
       "      <td>1.270000e-03</td>\n",
       "      <td>1.270000e-03</td>\n",
       "      <td>1.270000e-03</td>\n",
       "      <td>1.270000e-03</td>\n",
       "      <td>1.270000e-03</td>\n",
       "      <td>1.270000e-03</td>\n",
       "      <td>7.000000e+00</td>\n",
       "    </tr>\n",
       "  </tbody>\n",
       "</table>\n",
       "</div>"
      ],
      "text/plain": [
       "               time      channel1      channel2      channel3      channel4  \\\n",
       "count  4.237908e+06  4.237908e+06  4.237908e+06  4.237908e+06  4.237908e+06   \n",
       "mean   3.113689e+04 -7.911481e-06 -9.416077e-06 -9.548735e-06 -9.637838e-06   \n",
       "std    1.868079e+04  1.631110e-04  1.192228e-04  1.241846e-04  2.257728e-04   \n",
       "min    0.000000e+00 -1.280000e-03 -1.280000e-03 -1.280000e-03 -1.280000e-03   \n",
       "25%    1.529000e+04 -3.000000e-05 -4.000000e-05 -4.000000e-05 -6.000000e-05   \n",
       "50%    3.054600e+04 -1.000000e-05 -1.000000e-05 -1.000000e-05 -1.000000e-05   \n",
       "75%    4.580400e+04  2.000000e-05  2.000000e-05  3.000000e-05  4.000000e-05   \n",
       "max    9.714400e+04  1.270000e-03  1.270000e-03  1.270000e-03  1.270000e-03   \n",
       "\n",
       "           channel5      channel6      channel7      channel8         class  \n",
       "count  4.237908e+06  4.237908e+06  4.237908e+06  4.237908e+06  4.237907e+06  \n",
       "mean  -1.599724e-05 -1.085528e-05 -9.364637e-06 -9.696860e-06  1.265671e+00  \n",
       "std    2.724188e-04  2.151405e-04  1.527311e-04  1.720933e-04  1.989693e+00  \n",
       "min   -1.280000e-03 -1.280000e-03 -1.280000e-03 -1.280000e-03  0.000000e+00  \n",
       "25%   -8.000000e-05 -6.000000e-05 -4.000000e-05 -3.000000e-05  0.000000e+00  \n",
       "50%   -1.000000e-05 -1.000000e-05 -1.000000e-05 -1.000000e-05  0.000000e+00  \n",
       "75%    5.000000e-05  3.000000e-05  2.000000e-05  1.000000e-05  2.000000e+00  \n",
       "max    1.270000e-03  1.270000e-03  1.270000e-03  1.270000e-03  7.000000e+00  "
      ]
     },
     "execution_count": 4,
     "metadata": {},
     "output_type": "execute_result"
    }
   ],
   "source": [
    "df.describe()"
   ]
  },
  {
   "cell_type": "code",
   "execution_count": 5,
   "id": "derived-edmonton",
   "metadata": {},
   "outputs": [
    {
     "name": "stdout",
     "output_type": "stream",
     "text": [
      "<class 'pandas.core.frame.DataFrame'>\n",
      "RangeIndex: 4237908 entries, 0 to 4237907\n",
      "Data columns (total 10 columns):\n",
      " #   Column    Dtype  \n",
      "---  ------    -----  \n",
      " 0   time      int64  \n",
      " 1   channel1  float64\n",
      " 2   channel2  float64\n",
      " 3   channel3  float64\n",
      " 4   channel4  float64\n",
      " 5   channel5  float64\n",
      " 6   channel6  float64\n",
      " 7   channel7  float64\n",
      " 8   channel8  float64\n",
      " 9   class     float64\n",
      "dtypes: float64(9), int64(1)\n",
      "memory usage: 323.3 MB\n"
     ]
    }
   ],
   "source": [
    "df.info()"
   ]
  },
  {
   "cell_type": "markdown",
   "id": "accompanied-tsunami",
   "metadata": {},
   "source": [
    "# Data Cleaning"
   ]
  },
  {
   "cell_type": "code",
   "execution_count": 6,
   "id": "varied-columbus",
   "metadata": {},
   "outputs": [
    {
     "data": {
      "text/plain": [
       "time        0\n",
       "channel1    0\n",
       "channel2    0\n",
       "channel3    0\n",
       "channel4    0\n",
       "channel5    0\n",
       "channel6    0\n",
       "channel7    0\n",
       "channel8    0\n",
       "class       1\n",
       "dtype: int64"
      ]
     },
     "execution_count": 6,
     "metadata": {},
     "output_type": "execute_result"
    }
   ],
   "source": [
    "df.isnull().sum()"
   ]
  },
  {
   "cell_type": "code",
   "execution_count": 7,
   "id": "level-guard",
   "metadata": {},
   "outputs": [],
   "source": [
    "df.dropna(inplace=True)"
   ]
  },
  {
   "cell_type": "code",
   "execution_count": 11,
   "id": "organizational-favorite",
   "metadata": {},
   "outputs": [],
   "source": [
    "df = df[df['class']!=0]"
   ]
  },
  {
   "cell_type": "markdown",
   "id": "combined-brief",
   "metadata": {},
   "source": [
    "# Model Building"
   ]
  },
  {
   "cell_type": "code",
   "execution_count": 18,
   "id": "dirty-temple",
   "metadata": {},
   "outputs": [],
   "source": [
    "features = ['channel1', 'channel2', 'channel3', 'channel4', 'channel5', 'channel6', 'channel7', 'channel8']\n",
    "X = df[features]\n",
    "y = df['class']"
   ]
  },
  {
   "cell_type": "code",
   "execution_count": 19,
   "id": "changed-edition",
   "metadata": {},
   "outputs": [],
   "source": [
    "X_train, X_test, y_train, y_test = train_test_split(X, y, train_size=0.7, random_state=42)"
   ]
  },
  {
   "cell_type": "markdown",
   "id": "official-resolution",
   "metadata": {},
   "source": [
    "## Logistic Regression"
   ]
  },
  {
   "cell_type": "code",
   "execution_count": 20,
   "id": "joint-trader",
   "metadata": {},
   "outputs": [
    {
     "data": {
      "text/plain": [
       "LogisticRegression()"
      ]
     },
     "execution_count": 20,
     "metadata": {},
     "output_type": "execute_result"
    }
   ],
   "source": [
    "lgm = LogisticRegression()\n",
    "lgm.fit(X_train, y_train)"
   ]
  },
  {
   "cell_type": "code",
   "execution_count": 21,
   "id": "corporate-reply",
   "metadata": {},
   "outputs": [
    {
     "data": {
      "text/plain": [
       "0.6429102110408982"
      ]
     },
     "execution_count": 21,
     "metadata": {},
     "output_type": "execute_result"
    }
   ],
   "source": [
    "lgm.score(X_train, y_train)"
   ]
  },
  {
   "cell_type": "code",
   "execution_count": 22,
   "id": "reverse-bachelor",
   "metadata": {},
   "outputs": [
    {
     "data": {
      "text/plain": [
       "0.6433532881380996"
      ]
     },
     "execution_count": 22,
     "metadata": {},
     "output_type": "execute_result"
    }
   ],
   "source": [
    "lgm.score(X_test, y_test)"
   ]
  },
  {
   "cell_type": "markdown",
   "id": "characteristic-thumbnail",
   "metadata": {},
   "source": [
    "## Random Forest"
   ]
  },
  {
   "cell_type": "code",
   "execution_count": null,
   "id": "classified-footwear",
   "metadata": {},
   "outputs": [],
   "source": [
    "rfm = RandomForestClassifier()\n",
    "rfm.fit(X_train, y_train)"
   ]
  },
  {
   "cell_type": "code",
   "execution_count": null,
   "id": "quick-silence",
   "metadata": {},
   "outputs": [],
   "source": []
  }
 ],
 "metadata": {
  "kernelspec": {
   "display_name": "Python 3",
   "language": "python",
   "name": "python3"
  },
  "language_info": {
   "codemirror_mode": {
    "name": "ipython",
    "version": 3
   },
   "file_extension": ".py",
   "mimetype": "text/x-python",
   "name": "python",
   "nbconvert_exporter": "python",
   "pygments_lexer": "ipython3",
   "version": "3.8.3"
  }
 },
 "nbformat": 4,
 "nbformat_minor": 5
}
